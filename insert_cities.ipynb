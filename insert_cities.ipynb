{
 "cells": [
  {
   "cell_type": "code",
   "execution_count": 1,
   "id": "77a2f806-f22c-49e3-aff0-2b4b3974f9b2",
   "metadata": {},
   "outputs": [],
   "source": [
    "import pyexasol\n",
    "import pandas as pd"
   ]
  },
  {
   "cell_type": "code",
   "execution_count": 2,
   "id": "13974cc0-71ba-490c-933e-ce3a2d752cc5",
   "metadata": {},
   "outputs": [],
   "source": [
    "ip = \"localhost:8563\"\n",
    "C = pyexasol.connect(dsn=ip, user='sys', password='exasol', protocol_version=pyexasol.PROTOCOL_V1)"
   ]
  },
  {
   "cell_type": "code",
   "execution_count": 3,
   "id": "9b32eabf-38a2-49ce-90e4-f1171d050d81",
   "metadata": {},
   "outputs": [],
   "source": [
    "# https://simplemaps.com/data/us-cities\n",
    "cities = pd.read_csv('uscities.csv')"
   ]
  },
  {
   "cell_type": "code",
   "execution_count": 9,
   "id": "6b2c34ac-6a87-45f2-87ed-fc4050c18d12",
   "metadata": {},
   "outputs": [],
   "source": [
    "# nur groesste Stadte, sonst zu viel\n",
    "cities = cities[cities['ranking'] == 1]"
   ]
  },
  {
   "cell_type": "markdown",
   "id": "02190d68-3015-4af2-bb3e-f368fece7424",
   "metadata": {},
   "source": [
    "### Table for cities\n",
    "brauche name, county name, population, id for zip"
   ]
  },
  {
   "cell_type": "code",
   "execution_count": 6,
   "id": "b60143e3-6f6e-4615-9080-cfe2f5afca93",
   "metadata": {},
   "outputs": [
    {
     "data": {
      "text/plain": [
       "<ExaStatement session_id=1748844784110891673 stmt_idx=3>"
      ]
     },
     "execution_count": 6,
     "metadata": {},
     "output_type": "execute_result"
    }
   ],
   "source": [
    "C.execute(\n",
    "    \"\"\"\n",
    "    CREATE TABLE AOL_SCHEMA.CITY(\n",
    "        ID int IDENTITY PRIMARY KEY,\n",
    "        NAME VARCHAR(100),\n",
    "        STATE_NAME VARCHAR(100),\n",
    "        COUNTY VARCHAR(100),\n",
    "        POPULATION int\n",
    "    );\n",
    "    \"\"\"\n",
    ")"
   ]
  },
  {
   "cell_type": "markdown",
   "id": "bfe25352-3b60-4a79-85f6-f76e22f47e7a",
   "metadata": {},
   "source": [
    "### Table for zip codes\n",
    "soll alle zips zu citiy halten"
   ]
  },
  {
   "cell_type": "code",
   "execution_count": 7,
   "id": "b6c0df2c-265c-4815-b728-69c21bb2aa20",
   "metadata": {},
   "outputs": [
    {
     "data": {
      "text/plain": [
       "<ExaStatement session_id=1748844784110891673 stmt_idx=4>"
      ]
     },
     "execution_count": 7,
     "metadata": {},
     "output_type": "execute_result"
    }
   ],
   "source": [
    "C.execute(\n",
    "    \"\"\"\n",
    "    CREATE TABLE AOL_SCHEMA.ZIP_CODE(\n",
    "        ID int CONSTRAINT CITY_ID REFERENCES AOL_SCHEMA.CITY (ID) DISABLE,\n",
    "        ZIP_CODE VARCHAR(6)\n",
    "    );\n",
    "    \"\"\"\n",
    ")"
   ]
  },
  {
   "cell_type": "code",
   "execution_count": 10,
   "id": "f474de15-210c-4f86-a37a-70ac53825dbe",
   "metadata": {},
   "outputs": [],
   "source": [
    "for i, row in cities.iterrows():\n",
    "    name = row['city_ascii']\n",
    "    state = row['state_name']\n",
    "    county = row['county_name']\n",
    "    population = row['population']\n",
    "    \n",
    "    if \"'\" in name:\n",
    "        continue\n",
    "    if \"'\" in state:\n",
    "        continue\n",
    "    if \"'\" in county:\n",
    "        continue\n",
    "    \n",
    "    insert = \"\"\"\n",
    "                INSERT INTO AOL_SCHEMA.CITY(NAME, STATE_NAME, COUNTY, POPULATION) VALUES\n",
    "                ('{}', '{}', '{}', '{}');\n",
    "            \"\"\".format(name, state, county, population)\n",
    "    C.execute(insert)"
   ]
  },
  {
   "cell_type": "code",
   "execution_count": 32,
   "id": "8d4428bb-7d8c-4df5-86c8-4cb4ee97a1cb",
   "metadata": {},
   "outputs": [],
   "source": [
    "cities_df = C.export_to_pandas(\"SELECT * FROM AOL_SCHEMA.CITY\")\n",
    "\n",
    "for i, row in cities_df.iterrows():\n",
    "    city = row['NAME']\n",
    "    id_ = row['ID']\n",
    "    \n",
    "    i = cities['city_ascii'] == 'New York'\n",
    "    zips = cities.loc[i, 'zips']\n",
    "    zips = list(zips)[0].split()\n",
    "    \n",
    "    for zip_ in zips:\n",
    "        insert = \"\"\"\n",
    "                INSERT INTO AOL_SCHEMA.ZIP_CODE(ID, ZIP_CODE) VALUES\n",
    "                ('{}', '{}');\n",
    "                \"\"\".format(id_, zip_)\n",
    "        C.execute(insert)"
   ]
  },
  {
   "cell_type": "code",
   "execution_count": null,
   "id": "3045179e-4d89-45ad-8833-dc9f0efbecfe",
   "metadata": {},
   "outputs": [],
   "source": []
  }
 ],
 "metadata": {
  "kernelspec": {
   "display_name": "Python 3 (ipykernel)",
   "language": "python",
   "name": "python3"
  },
  "language_info": {
   "codemirror_mode": {
    "name": "ipython",
    "version": 3
   },
   "file_extension": ".py",
   "mimetype": "text/x-python",
   "name": "python",
   "nbconvert_exporter": "python",
   "pygments_lexer": "ipython3",
   "version": "3.10.8"
  }
 },
 "nbformat": 4,
 "nbformat_minor": 5
}
